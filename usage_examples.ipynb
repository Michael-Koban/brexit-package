{
 "cells": [
  {
   "cell_type": "code",
   "execution_count": 1,
   "metadata": {},
   "outputs": [],
   "source": [
    "from twitter_crawler import TwitterCrawler\n",
    "my_token = 'AAAAAAAAAAAAAAAAAAAAADRFOwEAAAAAaTp%2Bdd1OhobYMYb5ExPXm7IL6RA%3DDHknH402gOXoegUGxNtpC6giIjdackRLtdRx6tjrnnLeFN1ntT'\n",
    "my_twitter_crawler = TwitterCrawler(bearer_token= my_token)\n"
   ]
  },
  {
   "cell_type": "code",
   "execution_count": 2,
   "metadata": {},
   "outputs": [
    {
     "data": {
      "text/plain": [
       "'https://twitter.com/anyuser/status/1466035318365294603'"
      ]
     },
     "execution_count": 2,
     "metadata": {},
     "output_type": "execute_result"
    }
   ],
   "source": [
    "TwitterCrawler.get_url_by_tweet_id(\"1466035318365294603\")"
   ]
  },
  {
   "cell_type": "markdown",
   "metadata": {},
   "source": []
  },
  {
   "cell_type": "markdown",
   "metadata": {},
   "source": []
  },
  {
   "cell_type": "code",
   "execution_count": null,
   "metadata": {},
   "outputs": [],
   "source": [
    "tweet_id = \"1470753200311517189\" #\"1108157488581562373\"\n",
    "my_twitter_crawler.create_url_tweet_id(tweet_id)"
   ]
  },
  {
   "cell_type": "code",
   "execution_count": null,
   "metadata": {},
   "outputs": [],
   "source": [
    "keyword = \"fun\"\n",
    "start_time =\"2022-03-10T00:00:00.000Z\"\n",
    "end_time = \"2022-03-11T00:00:00.000Z\"\n",
    "max_results = 10 #minimum 10 and maximum 100 !\n",
    "\n",
    "my_twitter_crawler.search_recent_by_keyword(keyword, start_time,end_time, max_results)"
   ]
  },
  {
   "cell_type": "code",
   "execution_count": 3,
   "metadata": {},
   "outputs": [
    {
     "name": "stdout",
     "output_type": "stream",
     "text": [
      "The dir key_opinion_leaders_tweets_tables_beta already exist\n",
      "Users to search their tweets: ['DavidDavisMP']\n",
      "-----------------------------------------------\n",
      "Users we already have data on: []\n",
      "Bringing all the tweets of the user: DavidDavisMP from: 2015-12-7T00:00:00Z to 2021-12-26T00:00:00Z\n",
      "\n",
      "The dir key_opinion_leaders_tweets_tables_beta already exist\n",
      "The dir key_opinion_leaders_tweets_tables_beta/log_key_opinion_leaders already exist\n",
      "The dir key_opinion_leaders_tweets_tables_beta/log_key_opinion_leaders/DavidDavisMP already exist\n"
     ]
    },
    {
     "ename": "TypeError",
     "evalue": "TwitterCrawler.__connect_to_endpoint() got multiple values for argument 'next_token'",
     "output_type": "error",
     "traceback": [
      "\u001b[0;31m---------------------------------------------------------------------------\u001b[0m",
      "\u001b[0;31mTypeError\u001b[0m                                 Traceback (most recent call last)",
      "\u001b[1;32m/Users/michaelkobaivanov/Library/Mobile Documents/com~apple~CloudDocs/year3/brexit-package/usage_examples.ipynb Cell 7'\u001b[0m in \u001b[0;36m<cell line: 42>\u001b[0;34m()\u001b[0m\n\u001b[1;32m     <a href='vscode-notebook-cell:/Users/michaelkobaivanov/Library/Mobile%20Documents/com~apple~CloudDocs/year3/brexit-package/usage_examples.ipynb#ch0000005?line=36'>37</a>\u001b[0m \u001b[39mprint\u001b[39m(\u001b[39m\"\u001b[39m\u001b[39m-----------------------------------------------\u001b[39m\u001b[39m\"\u001b[39m)\n\u001b[1;32m     <a href='vscode-notebook-cell:/Users/michaelkobaivanov/Library/Mobile%20Documents/com~apple~CloudDocs/year3/brexit-package/usage_examples.ipynb#ch0000005?line=37'>38</a>\u001b[0m \u001b[39mprint\u001b[39m(\u001b[39m\"\u001b[39m\u001b[39mUsers we already have data on:\u001b[39m\u001b[39m\"\u001b[39m,\u001b[39mlist\u001b[39m(\u001b[39mset\u001b[39m(all_key_opinion_leader_names)\u001b[39m.\u001b[39mintersection(users_we_have_data)))\n\u001b[1;32m     <a href='vscode-notebook-cell:/Users/michaelkobaivanov/Library/Mobile%20Documents/com~apple~CloudDocs/year3/brexit-package/usage_examples.ipynb#ch0000005?line=40'>41</a>\u001b[0m json_responses_list, num_of_returned_twweets, next_token \u001b[39m=\u001b[39m \\\n\u001b[0;32m---> <a href='vscode-notebook-cell:/Users/michaelkobaivanov/Library/Mobile%20Documents/com~apple~CloudDocs/year3/brexit-package/usage_examples.ipynb#ch0000005?line=41'>42</a>\u001b[0m my_twitter_crawler\u001b[39m.\u001b[39;49mreturn_tweets_of_key_opinion_leader(query\u001b[39m=\u001b[39;49m\u001b[39m\"\u001b[39;49m\u001b[39m\"\u001b[39;49m, user_name\u001b[39m=\u001b[39;49m\u001b[39m\"\u001b[39;49m\u001b[39mDavidDavisMP\u001b[39;49m\u001b[39m\"\u001b[39;49m,\n\u001b[1;32m     <a href='vscode-notebook-cell:/Users/michaelkobaivanov/Library/Mobile%20Documents/com~apple~CloudDocs/year3/brexit-package/usage_examples.ipynb#ch0000005?line=42'>43</a>\u001b[0m                                         start_time \u001b[39m=\u001b[39;49m \u001b[39m\"\u001b[39;49m\u001b[39m2015-12-7T00:00:00Z\u001b[39;49m\u001b[39m\"\u001b[39;49m,\n\u001b[1;32m     <a href='vscode-notebook-cell:/Users/michaelkobaivanov/Library/Mobile%20Documents/com~apple~CloudDocs/year3/brexit-package/usage_examples.ipynb#ch0000005?line=43'>44</a>\u001b[0m                                         end_time \u001b[39m=\u001b[39;49m \u001b[39m\"\u001b[39;49m\u001b[39m2021-12-26T00:00:00Z\u001b[39;49m\u001b[39m\"\u001b[39;49m,\n\u001b[1;32m     <a href='vscode-notebook-cell:/Users/michaelkobaivanov/Library/Mobile%20Documents/com~apple~CloudDocs/year3/brexit-package/usage_examples.ipynb#ch0000005?line=44'>45</a>\u001b[0m                                         max_results \u001b[39m=\u001b[39;49m \u001b[39m10\u001b[39;49m, evaluate_last_token \u001b[39m=\u001b[39;49m \u001b[39mFalse\u001b[39;49;00m,\n\u001b[1;32m     <a href='vscode-notebook-cell:/Users/michaelkobaivanov/Library/Mobile%20Documents/com~apple~CloudDocs/year3/brexit-package/usage_examples.ipynb#ch0000005?line=45'>46</a>\u001b[0m                                         limit_amount_of_returned_tweets \u001b[39m=\u001b[39;49m \u001b[39m50\u001b[39;49m,\n\u001b[1;32m     <a href='vscode-notebook-cell:/Users/michaelkobaivanov/Library/Mobile%20Documents/com~apple~CloudDocs/year3/brexit-package/usage_examples.ipynb#ch0000005?line=46'>47</a>\u001b[0m                                        verbose_10 \u001b[39m=\u001b[39;49m \u001b[39mFalse\u001b[39;49;00m)\n",
      "File \u001b[0;32m~/Library/Mobile Documents/com~apple~CloudDocs/year3/brexit-package/twitter_crawler.py:287\u001b[0m, in \u001b[0;36mTwitterCrawler.return_tweets_of_key_opinion_leader\u001b[0;34m(self, query, user_name, start_time, end_time, max_results, evaluate_last_token, limit_amount_of_returned_tweets, verbose_10)\u001b[0m\n\u001b[1;32m    <a href='file:///Users/michaelkobaivanov/Library/Mobile%20Documents/com~apple~CloudDocs/year3/brexit-package/twitter_crawler.py?line=275'>276</a>\u001b[0m \u001b[39m#change params based on the endpoint you are using\u001b[39;00m\n\u001b[1;32m    <a href='file:///Users/michaelkobaivanov/Library/Mobile%20Documents/com~apple~CloudDocs/year3/brexit-package/twitter_crawler.py?line=276'>277</a>\u001b[0m query_params \u001b[39m=\u001b[39m {\u001b[39m'\u001b[39m\u001b[39mquery\u001b[39m\u001b[39m'\u001b[39m: query,\n\u001b[1;32m    <a href='file:///Users/michaelkobaivanov/Library/Mobile%20Documents/com~apple~CloudDocs/year3/brexit-package/twitter_crawler.py?line=277'>278</a>\u001b[0m             \u001b[39m'\u001b[39m\u001b[39mstart_time\u001b[39m\u001b[39m'\u001b[39m: start_time,\n\u001b[1;32m    <a href='file:///Users/michaelkobaivanov/Library/Mobile%20Documents/com~apple~CloudDocs/year3/brexit-package/twitter_crawler.py?line=278'>279</a>\u001b[0m             \u001b[39m'\u001b[39m\u001b[39mend_time\u001b[39m\u001b[39m'\u001b[39m: end_time,\n\u001b[0;32m   (...)\u001b[0m\n\u001b[1;32m    <a href='file:///Users/michaelkobaivanov/Library/Mobile%20Documents/com~apple~CloudDocs/year3/brexit-package/twitter_crawler.py?line=283'>284</a>\u001b[0m             \u001b[39m'\u001b[39m\u001b[39mplace.fields\u001b[39m\u001b[39m'\u001b[39m: \u001b[39m'\u001b[39m\u001b[39mfull_name,id,country,country_code,geo,name,place_type\u001b[39m\u001b[39m'\u001b[39m,\n\u001b[1;32m    <a href='file:///Users/michaelkobaivanov/Library/Mobile%20Documents/com~apple~CloudDocs/year3/brexit-package/twitter_crawler.py?line=284'>285</a>\u001b[0m             \u001b[39m'\u001b[39m\u001b[39mnext_token\u001b[39m\u001b[39m'\u001b[39m: {next_token}}\n\u001b[0;32m--> <a href='file:///Users/michaelkobaivanov/Library/Mobile%20Documents/com~apple~CloudDocs/year3/brexit-package/twitter_crawler.py?line=286'>287</a>\u001b[0m json_response \u001b[39m=\u001b[39m \u001b[39mself\u001b[39;49m\u001b[39m.\u001b[39;49m__connect_to_endpoint(\u001b[39mself\u001b[39;49m, search_url, query_params, next_token \u001b[39m=\u001b[39;49m next_token, verbose \u001b[39m=\u001b[39;49m \u001b[39mFalse\u001b[39;49;00m)\n\u001b[1;32m    <a href='file:///Users/michaelkobaivanov/Library/Mobile%20Documents/com~apple~CloudDocs/year3/brexit-package/twitter_crawler.py?line=288'>289</a>\u001b[0m \u001b[39mif\u001b[39;00m json_response \u001b[39m==\u001b[39m \u001b[39m429\u001b[39m:\n\u001b[1;32m    <a href='file:///Users/michaelkobaivanov/Library/Mobile%20Documents/com~apple~CloudDocs/year3/brexit-package/twitter_crawler.py?line=289'>290</a>\u001b[0m     json_response \u001b[39m=\u001b[39m \u001b[39mself\u001b[39m\u001b[39m.\u001b[39m__connect_to_endpoint(search_url, query_params, next_token \u001b[39m=\u001b[39m next_token, verbose \u001b[39m=\u001b[39m \u001b[39mFalse\u001b[39;00m)\n",
      "\u001b[0;31mTypeError\u001b[0m: TwitterCrawler.__connect_to_endpoint() got multiple values for argument 'next_token'"
     ]
    }
   ],
   "source": [
    "## Testing  search_recent_by_keyword\n",
    "\n",
    "\n",
    "all_key_opinion_leader_names = [\"DavidDavisMP\"]\n",
    "\n",
    "\n",
    "#all_key_opinion_leader_names = [\"DominicCumins\", \"darrengrimes_\", \"PhilipHammondUK\",\"roymadpis789\"]\n",
    "#MakhoulRawaa\n",
    "start_time = \"2015-12-7T00:00:00Z\"\n",
    "end_time = \"2021-12-04T00:00:00Z\"\n",
    "max_results = 500\n",
    "limit_amount_of_returned_tweets = 1000000\n",
    "############################################################################################\n",
    "#### we don't want to get data on key opinion leaders that we already searched for their tweets!\n",
    "# thus we first need to see which of the users that are inserted in the list are **not** in the files we already have:\n",
    "from os import listdir\n",
    "from os.path import isfile, join\n",
    "\n",
    "#making the data and log dir\n",
    "dir_name = \"key_opinion_leaders_tweets_tables_beta\"\n",
    "#dir_log_name = \"log_key_opinion_leaders\"\n",
    "#path_for_log_dir = os.path.join(dir_name, dir_log_name)\n",
    "\n",
    "import os.path\n",
    "try:\n",
    "    os.mkdir(dir_name)\n",
    "    print(\"creating directory\", dir_name, \"to insert all the tables of all the key opinion leaders\")\n",
    "except:\n",
    "    print(\"The dir\", dir_name ,\"already exist\")\n",
    "\n",
    "    \n",
    "mypath = \"key_opinion_leaders_tweets_tables_beta\"\n",
    "users_we_have_data = [f.split(\".\")[0] for f in listdir(mypath) if isfile(join(mypath, f))]\n",
    "\n",
    "key_opinion_leader_names = list(set(all_key_opinion_leader_names) - set(users_we_have_data))\n",
    "print(\"Users to search their tweets:\",key_opinion_leader_names)\n",
    "print(\"-----------------------------------------------\")\n",
    "print(\"Users we already have data on:\",list(set(all_key_opinion_leader_names).intersection(users_we_have_data)))\n",
    "\n",
    "\n",
    "json_responses_list, num_of_returned_twweets, next_token = \\\n",
    "my_twitter_crawler.return_tweets_of_key_opinion_leader(query=\"\", user_name=\"DavidDavisMP\",\n",
    "                                        start_time = \"2015-12-7T00:00:00Z\",\n",
    "                                        end_time = \"2021-12-26T00:00:00Z\",\n",
    "                                        max_results = 10, evaluate_last_token = False,\n",
    "                                        limit_amount_of_returned_tweets = 50,\n",
    "                                       verbose_10 = False)\n"
   ]
  },
  {
   "cell_type": "code",
   "execution_count": null,
   "metadata": {},
   "outputs": [],
   "source": [
    "       \n",
    "       tokens_location = \"/Users/michaelkobaivanov/Library/Mobile Documents/com~apple~CloudDocs/year3/brexit-package/key_opinion_leaders_tweets_tables_beta/log_key_opinion_leaders/DavidDavisMP\"\n",
    "\n",
    "        if (evaluate_last_token == True and os.path.isfile(tokens_location) == True):\n",
    "            a_file = open(tokens_location, \"r\")\n",
    "            lines = a_file.readlines()\n",
    "            last_lines = lines[-2]\n",
    "            next_token = last_lines[0:-1]\n",
    "            a_file.close()    \n",
    "        else:\n",
    "            next_token = None"
   ]
  }
 ],
 "metadata": {
  "interpreter": {
   "hash": "6d3c51dcc737e3b755df5c6775e1f16aeea3921fc151dde7ea513fa4bec4ea0c"
  },
  "kernelspec": {
   "display_name": "Python 3.10.2 ('brexit-env': venv)",
   "language": "python",
   "name": "python3"
  },
  "language_info": {
   "codemirror_mode": {
    "name": "ipython",
    "version": 3
   },
   "file_extension": ".py",
   "mimetype": "text/x-python",
   "name": "python",
   "nbconvert_exporter": "python",
   "pygments_lexer": "ipython3",
   "version": "3.10.2"
  },
  "orig_nbformat": 4
 },
 "nbformat": 4,
 "nbformat_minor": 2
}
