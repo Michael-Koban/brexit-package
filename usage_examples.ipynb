{
 "cells": [
  {
   "cell_type": "code",
   "execution_count": 4,
   "metadata": {},
   "outputs": [],
   "source": [
    "from twitter_crawler import TwitterCrawler\n",
    "my_token = 'AAAAAAAAAAAAAAAAAAAAADRFOwEAAAAAaTp%2Bdd1OhobYMYb5ExPXm7IL6RA%3DDHknH402gOXoegUGxNtpC6giIjdackRLtdRx6tjrnnLeFN1ntT'\n",
    "my_twitter_crawler = TwitterCrawler(bearer_token= my_token)\n",
    "\n"
   ]
  },
  {
   "cell_type": "code",
   "execution_count": 5,
   "metadata": {},
   "outputs": [
    {
     "data": {
      "text/plain": [
       "'https://twitter.com/anyuser/status/1466035318365294603'"
      ]
     },
     "execution_count": 5,
     "metadata": {},
     "output_type": "execute_result"
    }
   ],
   "source": [
    "TwitterCrawler.get_url_by_tweet_id(\"1466035318365294603\")"
   ]
  },
  {
   "cell_type": "markdown",
   "metadata": {},
   "source": []
  },
  {
   "cell_type": "markdown",
   "metadata": {},
   "source": []
  },
  {
   "cell_type": "code",
   "execution_count": 3,
   "metadata": {},
   "outputs": [
    {
     "ename": "AttributeError",
     "evalue": "'TwitterCrawler' object has no attribute 'create_url_tweet_id'",
     "output_type": "error",
     "traceback": [
      "\u001b[0;31m---------------------------------------------------------------------------\u001b[0m",
      "\u001b[0;31mAttributeError\u001b[0m                            Traceback (most recent call last)",
      "\u001b[1;32m/Users/michaelkobaivanov/Library/Mobile Documents/com~apple~CloudDocs/year3/brexit-package/usage_examples.ipynb Cell 5'\u001b[0m in \u001b[0;36m<cell line: 2>\u001b[0;34m()\u001b[0m\n\u001b[1;32m      <a href='vscode-notebook-cell:/Users/michaelkobaivanov/Library/Mobile%20Documents/com~apple~CloudDocs/year3/brexit-package/usage_examples.ipynb#ch0000002?line=0'>1</a>\u001b[0m tweet_id \u001b[39m=\u001b[39m \u001b[39m\"\u001b[39m\u001b[39m1470753200311517189\u001b[39m\u001b[39m\"\u001b[39m \u001b[39m#\"1108157488581562373\"\u001b[39;00m\n\u001b[0;32m----> <a href='vscode-notebook-cell:/Users/michaelkobaivanov/Library/Mobile%20Documents/com~apple~CloudDocs/year3/brexit-package/usage_examples.ipynb#ch0000002?line=1'>2</a>\u001b[0m my_twitter_crawler\u001b[39m.\u001b[39;49mcreate_url_tweet_id(tweet_id)\n",
      "\u001b[0;31mAttributeError\u001b[0m: 'TwitterCrawler' object has no attribute 'create_url_tweet_id'"
     ]
    }
   ],
   "source": [
    "tweet_id = \"1470753200311517189\" #\"1108157488581562373\"\n",
    "my_twitter_crawler.create_url_tweet_id(tweet_id)"
   ]
  },
  {
   "cell_type": "code",
   "execution_count": null,
   "metadata": {},
   "outputs": [],
   "source": [
    "keyword = \"fun\"\n",
    "start_time =\"2022-03-10T00:00:00.000Z\"\n",
    "end_time = \"2022-03-11T00:00:00.000Z\"\n",
    "max_results = 10 #minimum 10 and maximum 100 !\n",
    "\n",
    "my_twitter_crawler.search_recent_by_keyword(keyword, start_time,end_time, max_results)"
   ]
  },
  {
   "cell_type": "code",
   "execution_count": null,
   "metadata": {},
   "outputs": [],
   "source": [
    "## Testing  search_recent_by_keyword\n",
    "\n",
    "\n",
    "all_key_opinion_leader_names = [\"DavidDavisMP\"]\n",
    "\n",
    "\n",
    "#all_key_opinion_leader_names = [\"DominicCumins\", \"darrengrimes_\", \"PhilipHammondUK\",\"roymadpis789\"]\n",
    "#MakhoulRawaa\n",
    "start_time = \"2015-12-7T00:00:00Z\"\n",
    "end_time = \"2021-12-04T00:00:00Z\"\n",
    "max_results = 500\n",
    "limit_amount_of_returned_tweets = 1000000\n",
    "############################################################################################\n",
    "\n",
    "#### we don't want to get data on key opinion leaders that we already searched for their tweets!\n",
    "# thus we first need to see which of the users that are inserted in the list are **not** in the files we already have:\n",
    "from os import listdir\n",
    "from os.path import isfile, join\n",
    "\n",
    "#making the data and log dir\n",
    "dir_name = \"key_opinion_leaders_tweets_tables_beta\"\n",
    "#dir_log_name = \"log_key_opinion_leaders\"\n",
    "#path_for_log_dir = os.path.join(dir_name, dir_log_name)\n",
    "\n",
    "import os.path\n",
    "try:\n",
    "    os.mkdir(dir_name)\n",
    "    print(\"creating directory\", dir_name, \"to insert all the tables of all the key opinion leaders\")\n",
    "except:\n",
    "    print(\"The dir\", dir_name ,\"already exist\")\n",
    "\n",
    "    \n",
    "mypath = \"key_opinion_leaders_tweets_tables_beta\"\n",
    "users_we_have_data = [f.split(\".\")[0] for f in listdir(mypath) if isfile(join(mypath, f))]\n",
    "\n",
    "key_opinion_leader_names = list(set(all_key_opinion_leader_names) - set(users_we_have_data))\n",
    "print(\"Users to search their tweets:\",key_opinion_leader_names)\n",
    "print(\"-----------------------------------------------\")\n",
    "print(\"Users we already have data on:\",list(set(all_key_opinion_leader_names).intersection(users_we_have_data)))\n",
    "\n",
    "\n",
    "json_responses_list, num_of_returned_twweets, next_token = \\\n",
    "my_twitter_crawler.return_tweets_of_key_opinion_leader(query=\"\", user_name=\"DavidDavisMP\",\n",
    "                                        start_time = \"2015-12-7T00:00:00Z\",\n",
    "                                        end_time = \"2021-12-26T00:00:00Z\",\n",
    "                                        max_results = 10, evaluate_last_token = False,\n",
    "                                        limit_amount_of_returned_tweets = 50,\n",
    "                                       verbose_10 = False)\n"
   ]
  },
  {
   "cell_type": "code",
   "execution_count": null,
   "metadata": {},
   "outputs": [],
   "source": [
    "       \n",
    "tokens_location = \"/Users/michaelkobaivanov/Library/Mobile Documents/com~apple~CloudDocs/year3/brexit-package/key_opinion_leaders_tweets_tables_beta/log_key_opinion_leaders/DavidDavisMP/tokens.txt\"\n",
    "\n",
    "\n",
    "a_file = open(tokens_location, \"r\")\n",
    "lines = a_file.readlines()\n",
    "last_lines = lines[-2]\n",
    "next_token = last_lines[0:-1]\n",
    "a_file.close()    \n",
    "\n"
   ]
  },
  {
   "cell_type": "code",
   "execution_count": 8,
   "metadata": {},
   "outputs": [
    {
     "name": "stdout",
     "output_type": "stream",
     "text": [
      "bringing tweets of DavidDavisMP\n",
      "Bringing all the tweets of the user: DavidDavisMP from: 2015-12-7T00:00:00Z to 2021-12-26T00:00:00Z\n",
      "\n",
      "The dir key_opinion_leaders_tweets_tables_beta already exist\n",
      "The dir key_opinion_leaders_tweets_tables_beta/log_key_opinion_leaders already exist\n",
      "The dir key_opinion_leaders_tweets_tables_beta/log_key_opinion_leaders/DavidDavisMP already exist\n",
      "1 Got from twitter 10 tweets, and there are more tweets of that user to get, I am bringing more tweets!\n",
      "\n",
      "token to insert: b26v89c19zqg8o3fpe16m200jbux8pjiwcjp9ukhtskfx\n",
      "token to insert: b26v89c19zqg8o3fpdy9cor6h1xu6coj1d3ay2cmrcgal\n",
      "token to insert: b26v89c19zqg8o3fpdy833nwlaxqbkip6w9bx933sh7r1\n",
      "token to insert: b26v89c19zqg8o3fpdy6tow3u4bnlpx9wu8uc8ahmnp19\n",
      "oooops, There may be more tweets to return, but you asked to limit the amount of returned tweets\n",
      "infact you got 50 returned tweets and limited the function to get 50 tweets\n",
      "50\n",
      "---------------------------------------------------------------\n",
      "bringing tweets of EndaKennyTD\n",
      "Bringing all the tweets of the user: EndaKennyTD from: 2015-12-7T00:00:00Z to 2021-12-26T00:00:00Z\n",
      "\n",
      "The dir key_opinion_leaders_tweets_tables_beta already exist\n",
      "The dir key_opinion_leaders_tweets_tables_beta/log_key_opinion_leaders already exist\n",
      "creating directory key_opinion_leaders_tweets_tables_beta/log_key_opinion_leaders/EndaKennyTD in the dir key_opinion_leaders_tweets_tables_beta/log_key_opinion_leaders to insert all the logs of the key opinion leader EndaKennyTD\n",
      "1 Got from twitter 10 tweets, and there are more tweets of that user to get, I am bringing more tweets!\n",
      "\n",
      "token to insert: 1jzu9lk96gu5npw3jiyysgxrfnapghbg2iqtj3qlbt6l\n",
      "token to insert: 1jzu9lk96gu5npw3jg24zo51yu1t7s1ehn8ehf0sofwd\n",
      "token to insert: 1jzu9lk96gu5npw3jg0g6usrpnnmdm3vl2k0ml02a0sd\n",
      "token to insert: 1jzu9lk96gu5npw3jd2s2w7excnnjfcbea10y9s831j1\n",
      "oooops, There may be more tweets to return, but you asked to limit the amount of returned tweets\n",
      "infact you got 50 returned tweets and limited the function to get 50 tweets\n",
      "50\n",
      "---------------------------------------------------------------\n",
      "bringing tweets of hilarybennmp\n",
      "Bringing all the tweets of the user: hilarybennmp from: 2015-12-7T00:00:00Z to 2021-12-26T00:00:00Z\n",
      "\n",
      "The dir key_opinion_leaders_tweets_tables_beta already exist\n",
      "The dir key_opinion_leaders_tweets_tables_beta/log_key_opinion_leaders already exist\n",
      "creating directory key_opinion_leaders_tweets_tables_beta/log_key_opinion_leaders/hilarybennmp in the dir key_opinion_leaders_tweets_tables_beta/log_key_opinion_leaders to insert all the logs of the key opinion leader hilarybennmp\n",
      "1 Got from twitter 10 tweets, and there are more tweets of that user to get, I am bringing more tweets!\n",
      "\n",
      "token to insert: b26v89c19zqg8o3fpe16ln3j1c1he5b7fj9qh61o4njwd\n",
      "token to insert: b26v89c19zqg8o3fpe15rqtbk9xlhm2j34xj1536u8i2l\n",
      "token to insert: b26v89c19zqg8o3fpe15cgyiyy8k5vellx8p6upisgu4d\n",
      "token to insert: b26v89c19zqg8o3fpdy8xvxlkk7o8nxenw7yggjc60rr1\n",
      "oooops, There may be more tweets to return, but you asked to limit the amount of returned tweets\n",
      "infact you got 50 returned tweets and limited the function to get 50 tweets\n",
      "50\n",
      "---------------------------------------------------------------\n"
     ]
    }
   ],
   "source": [
    "my_twitter_crawler.return_tweets_of_key_opinion_leaders(query=\"\", user_names=[\"DavidDavisMP\",\"EndaKennyTD\",\"hilarybennmp\"],\n",
    "                                        start_time = \"2015-12-7T00:00:00Z\",\n",
    "                                        end_time = \"2021-12-26T00:00:00Z\",\n",
    "                                        max_results = 10, evaluate_last_token = False,\n",
    "                                        limit_amount_of_returned_tweets = 50,\n",
    "                                       verbose_10 = False)"
   ]
  },
  {
   "cell_type": "code",
   "execution_count": null,
   "metadata": {},
   "outputs": [],
   "source": []
  }
 ],
 "metadata": {
  "interpreter": {
   "hash": "6d3c51dcc737e3b755df5c6775e1f16aeea3921fc151dde7ea513fa4bec4ea0c"
  },
  "kernelspec": {
   "display_name": "Python 3.10.2 ('brexit-env': venv)",
   "language": "python",
   "name": "python3"
  },
  "language_info": {
   "codemirror_mode": {
    "name": "ipython",
    "version": 3
   },
   "file_extension": ".py",
   "mimetype": "text/x-python",
   "name": "python",
   "nbconvert_exporter": "python",
   "pygments_lexer": "ipython3",
   "version": "3.10.2"
  },
  "orig_nbformat": 4
 },
 "nbformat": 4,
 "nbformat_minor": 2
}
